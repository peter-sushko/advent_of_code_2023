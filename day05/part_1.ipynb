{
 "cells": [
  {
   "cell_type": "code",
   "execution_count": 52,
   "id": "2e7d416e",
   "metadata": {},
   "outputs": [],
   "source": [
    "def find_seeds():\n",
    "    \"\"\"This function finds all the starting seeds.\n",
    "    \n",
    "    The output is a list of ints.\n",
    "    \"\"\"\n",
    "    with open('data.txt', 'r', encoding='utf-8') as file:\n",
    "        first_line = file.readline()\n",
    "        seeds = first_line[:-1].split(' ')\n",
    "        seeds = [int(seed) for seed in seeds[1:]]  # Convert strings to integers and skip the first element.\n",
    "    return seeds"
   ]
  },
  {
   "cell_type": "code",
   "execution_count": 132,
   "id": "25825881",
   "metadata": {},
   "outputs": [],
   "source": [
    "def find_indices_of_empty_rows():\n",
    "    \"\"\"Return the list of all blank rows\"\"\"\n",
    "    indices = []\n",
    "    with open('data.txt', 'r') as file:\n",
    "        for line_number, line in enumerate(file, start=1):\n",
    "            if not line.strip():  # Check if the line is empty.\n",
    "                indices.append(line_number-1)\n",
    "    return indices"
   ]
  },
  {
   "cell_type": "code",
   "execution_count": 164,
   "id": "5b78654f",
   "metadata": {},
   "outputs": [],
   "source": [
    "def find_mapping(start_index: int, end_index: int, seed_id: int):\n",
    "    \"\"\" Given the start and rows of the mapping, return the mapped value.\n",
    "    \n",
    "    This function searches over the given segment of mapping and returns the mapped value.\n",
    "    \"\"\"\n",
    "    for index,line in enumerate(open('data.txt', 'r', encoding='utf-8')):\n",
    "        if index <= start_index + 1: \n",
    "            pass\n",
    "        elif index >= end_index: # If mapping not found return itself.\n",
    "            return seed_id\n",
    "        elif (int(line.split()[1]) <= seed_id) and (int(line.split()[1]) + int(line.split()[2]) >= seed_id):\n",
    "            return int(line.split()[0]) - int(line.split()[1]) + seed_id "
   ]
  },
  {
   "cell_type": "code",
   "execution_count": 171,
   "id": "1e34f547",
   "metadata": {},
   "outputs": [
    {
     "data": {
      "text/plain": [
       "278755257"
      ]
     },
     "execution_count": 171,
     "metadata": {},
     "output_type": "execute_result"
    }
   ],
   "source": [
    "SEEDS = find_seeds()\n",
    "INDICES = find_indices_of_empty_rows()\n",
    "ANSWER = float('inf')\n",
    "for SEED in SEEDS:\n",
    "    new_value = SEED\n",
    "    for i in range(len(INDICES)-1):\n",
    "        new_value = find_mapping(INDICES[i],INDICES[i+1],new_value)\n",
    "    ANSWER =  min(ANSWER, new_value)\n",
    "ANSWER"
   ]
  }
 ],
 "metadata": {
  "kernelspec": {
   "display_name": "Python 3 (ipykernel)",
   "language": "python",
   "name": "python3"
  },
  "language_info": {
   "codemirror_mode": {
    "name": "ipython",
    "version": 3
   },
   "file_extension": ".py",
   "mimetype": "text/x-python",
   "name": "python",
   "nbconvert_exporter": "python",
   "pygments_lexer": "ipython3",
   "version": "3.11.5"
  }
 },
 "nbformat": 4,
 "nbformat_minor": 5
}
