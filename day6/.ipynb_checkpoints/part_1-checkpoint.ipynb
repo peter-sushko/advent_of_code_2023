{
 "cells": [
  {
   "cell_type": "code",
   "execution_count": 1,
   "id": "7ece204e",
   "metadata": {},
   "outputs": [],
   "source": [
    "import numpy as np\n",
    "import math"
   ]
  },
  {
   "cell_type": "code",
   "execution_count": 2,
   "id": "7f944a90",
   "metadata": {},
   "outputs": [],
   "source": [
    "def find_times_dists():\n",
    "    \"\"\"This function returns times and distances as two lists of ints.\"\"\"\n",
    "    with open('data.txt', 'r', encoding='utf-8') as file:\n",
    "        first_line = file.readline()\n",
    "        times_list = [int(time) for time in first_line.split() if time.isdigit()]\n",
    "        second_line = file.readline()\n",
    "        distances_list = [int(dist) for dist in second_line.split() if dist.isdigit()]\n",
    "        return times_list, distances_list\n",
    "\n",
    "def how_many_ways_to_win(ex_time, ex_distance):\n",
    "    \"\"\" This function calculates how many way the race can be won.\n",
    "    \n",
    "    It finds the solution by solving a system of equations:\n",
    "    x + y = time\n",
    "    x * y = distance\n",
    "\n",
    "    This system is equivalent to a quadratic:\n",
    "\n",
    "    x**2 - x * time  + distance = 0\n",
    "\n",
    "    np.roots find the solutions and outputs the two values.\n",
    "    The number of ways to win the race is equal to the number of\n",
    "    integers that are between the two solutions. \n",
    "\n",
    "    Example:\n",
    "    >>>how_many_ways_to_win(7,9)\n",
    "    4\n",
    "    \n",
    "    This is because the solutions to x**2 - 7*x + 9 = 0\n",
    "    are 5.303 and 1.697. There are 4 total integers in this range:\n",
    "    2, 3, 4 and 5. Thus we can hold the button for this amount of time\n",
    "    and we will beat the distance.\n",
    "    \"\"\"\n",
    "    sol1, sol2 = np.roots([1,-ex_time,ex_distance])\n",
    "    upper_bound = math.floor(max(sol1,sol2))\n",
    "    lower_bound = math.ceil(min(sol1,sol2))\n",
    "    return upper_bound - lower_bound + 1"
   ]
  },
  {
   "cell_type": "code",
   "execution_count": 6,
   "id": "398eb784",
   "metadata": {},
   "outputs": [
    {
     "name": "stdout",
     "output_type": "stream",
     "text": [
      "449820\n"
     ]
    }
   ],
   "source": [
    "ANSWER = 1\n",
    "TIMES, DISTANCES = find_times_dists()\n",
    "for race in range(len(TIMES)):\n",
    "    ANSWER *= how_many_ways_to_win(TIMES[race],DISTANCES[race])\n",
    "print(ANSWER)"
   ]
  }
 ],
 "metadata": {
  "kernelspec": {
   "display_name": "Python 3 (ipykernel)",
   "language": "python",
   "name": "python3"
  },
  "language_info": {
   "codemirror_mode": {
    "name": "ipython",
    "version": 3
   },
   "file_extension": ".py",
   "mimetype": "text/x-python",
   "name": "python",
   "nbconvert_exporter": "python",
   "pygments_lexer": "ipython3",
   "version": "3.11.5"
  }
 },
 "nbformat": 4,
 "nbformat_minor": 5
}
