{
 "cells": [
  {
   "cell_type": "code",
   "execution_count": 97,
   "id": "0b5dd896",
   "metadata": {},
   "outputs": [],
   "source": [
    "def find_digits_part2(string):\n",
    "    \"\"\"\n",
    "    Find first and last digit in string and return them two as an integer.\n",
    "    This time 'one' is a valid digit and needs to be handled.\n",
    "    \n",
    "    This code works\n",
    "\n",
    "    Parameters:\n",
    "    string (str): A string of characters and letters without spaces\n",
    "\n",
    "    Returns:\n",
    "    answer (int): the first digit and the last digit as a 2 digit number \n",
    "\n",
    "    Examples:\n",
    "    >>> find_digits_part2(2733vmmpknvgr)=23\n",
    "    >>> find_digits_part2(onetwothree4)=14\n",
    "\n",
    "    \"\"\"\n",
    "    word_list = ['one', 'two', 'three', 'four', 'five', 'six', 'seven', 'eight', 'nine']\n",
    "    first_number = last_number = None\n",
    "    index = 0\n",
    "    for character in string:\n",
    "        if character.isdigit():\n",
    "            if first_number is None:\n",
    "                first_number = last_number = character\n",
    "            else:\n",
    "                last_number = character\n",
    "        for word in word_list:\n",
    "            if string[index:].startswith(word):\n",
    "                number=word_list.index(word)+1\n",
    "                if first_number is None:\n",
    "                    first_number = last_number = number\n",
    "                else:\n",
    "                    last_number = number\n",
    "        index+=1\n",
    "    answer=int(first_number)*10 + int(last_number)\n",
    "    return answer"
   ]
  },
  {
   "cell_type": "code",
   "execution_count": 98,
   "id": "3b0d75df",
   "metadata": {},
   "outputs": [
    {
     "name": "stdout",
     "output_type": "stream",
     "text": [
      "55686\n"
     ]
    }
   ],
   "source": [
    "SOLUTION = 0\n",
    "with open('data.txt', 'r') as file:\n",
    "    for row in file:\n",
    "        SOLUTION += find_digits_part2(row)\n",
    "print(SOLUTION)"
   ]
  }
 ],
 "metadata": {
  "kernelspec": {
   "display_name": "Python 3 (ipykernel)",
   "language": "python",
   "name": "python3"
  },
  "language_info": {
   "codemirror_mode": {
    "name": "ipython",
    "version": 3
   },
   "file_extension": ".py",
   "mimetype": "text/x-python",
   "name": "python",
   "nbconvert_exporter": "python",
   "pygments_lexer": "ipython3",
   "version": "3.11.5"
  }
 },
 "nbformat": 4,
 "nbformat_minor": 5
}
