{
 "cells": [
  {
   "cell_type": "code",
   "execution_count": null,
   "id": "2295e52c-1d82-4b18-acd5-425f1ee6186b",
   "metadata": {},
   "outputs": [],
   "source": []
  },
  {
   "cell_type": "code",
   "execution_count": 18,
   "id": "207b007c-4fcc-4d06-8cc0-aefecb7f1947",
   "metadata": {},
   "outputs": [],
   "source": [
    "def find_digits(string):\n",
    "    \"\"\"\n",
    "    Find first and last digit in string and return them two as an integer\n",
    "\n",
    "    Parameters:\n",
    "    string (str): A string of characters and letters without spaces\n",
    "    ...\n",
    "\n",
    "    Returns:\n",
    "    ans (int): the first digit and the last digit as a 2 digit number \n",
    "\n",
    "    Raises:\n",
    "    ExceptionType: Explanation of when and why the exception is raised.\n",
    "\n",
    "    Examples:\n",
    "    >>> find_digits(2733vmmpknvgr)=23\n",
    "\n",
    "    Note:\n",
    "    Additional information or context about the function.\n",
    "    \"\"\"\n",
    "    first_is_found = False #flag for the first number\n",
    "    for character in string:\n",
    "        if character.isdigit():\n",
    "            if first_is_found == False:\n",
    "                first_number = character\n",
    "                last_number = character  #to handle cases with 1 letter only\n",
    "                first_is_found = True\n",
    "            else:\n",
    "                last_number = character\n",
    "    answer = int(first_number)*10 + int(last_number)\n",
    "    return answer\n"
   ]
  },
  {
   "cell_type": "code",
   "execution_count": 19,
   "id": "9d76e59f-6466-4d9a-88aa-29a5f54c8443",
   "metadata": {},
   "outputs": [
    {
     "data": {
      "text/plain": [
       "23"
      ]
     },
     "execution_count": 19,
     "metadata": {},
     "output_type": "execute_result"
    }
   ],
   "source": [
    "find_digits('2733vmmpknvgr')"
   ]
  }
 ],
 "metadata": {
  "kernelspec": {
   "display_name": "Python 3 (ipykernel)",
   "language": "python",
   "name": "python3"
  },
  "language_info": {
   "codemirror_mode": {
    "name": "ipython",
    "version": 3
   },
   "file_extension": ".py",
   "mimetype": "text/x-python",
   "name": "python",
   "nbconvert_exporter": "python",
   "pygments_lexer": "ipython3",
   "version": "3.11.4"
  }
 },
 "nbformat": 4,
 "nbformat_minor": 5
}
