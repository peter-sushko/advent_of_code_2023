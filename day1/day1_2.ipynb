{
 "cells": [
  {
   "cell_type": "code",
   "execution_count": 3,
   "id": "b7ddee56-6090-4d18-9ec5-0612a882b5f4",
   "metadata": {},
   "outputs": [],
   "source": [
    "def find_digits_part2(string):\n",
    "    \"\"\"\n",
    "    Find first and last digit in string and return them two as an integer.\n",
    "    This time 'one' is a valid digit\n",
    "\n",
    "    Parameters:\n",
    "    string (str): A string of characters and letters without spaces\n",
    "\n",
    "    Returns:\n",
    "    answer (int): the first digit and the last digit as a 2 digit number \n",
    "\n",
    "    Examples:\n",
    "    >>> find_digits_part2(2733vmmpknvgr)=23\n",
    "\n",
    "    Note:\n",
    "    still working on this\n",
    "    \"\"\"\n",
    "    first_is_found = False #flag for the first number\n",
    "    for character in string:\n",
    "        if character in ['0','1','2','3','4','5','6','7','8','9',\n",
    "                         'one','two','three','four','five','six','seven','eight','nine']: # now check in this list\n",
    "            if first_is_found == False:\n",
    "                first_number = character\n",
    "                last_number = character  #to handle cases with 1 letter only\n",
    "                first_is_found = True\n",
    "            else:\n",
    "                last_number = character\n",
    "    answer = int(first_number)*10 + int(last_number) #*10 for decimals\n",
    "    return answer\n"
   ]
  },
  {
   "cell_type": "code",
   "execution_count": 5,
   "id": "6fa339a3-4ee4-48d8-b294-1c04b9b4754e",
   "metadata": {},
   "outputs": [
    {
     "data": {
      "text/plain": [
       "11"
      ]
     },
     "execution_count": 5,
     "metadata": {},
     "output_type": "execute_result"
    }
   ],
   "source": [
    "find_digits_part2('two1nine')"
   ]
  },
  {
   "cell_type": "code",
   "execution_count": null,
   "id": "f29c4b60-c34d-4cd7-a620-e7dd41c420c8",
   "metadata": {},
   "outputs": [],
   "source": [
    "doesnt quite work yet!"
   ]
  }
 ],
 "metadata": {
  "kernelspec": {
   "display_name": "Python 3 (ipykernel)",
   "language": "python",
   "name": "python3"
  },
  "language_info": {
   "codemirror_mode": {
    "name": "ipython",
    "version": 3
   },
   "file_extension": ".py",
   "mimetype": "text/x-python",
   "name": "python",
   "nbconvert_exporter": "python",
   "pygments_lexer": "ipython3",
   "version": "3.11.4"
  }
 },
 "nbformat": 4,
 "nbformat_minor": 5
}
