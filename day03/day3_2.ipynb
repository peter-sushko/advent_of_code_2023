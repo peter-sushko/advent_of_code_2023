{
 "cells": [
  {
   "cell_type": "code",
   "execution_count": 1,
   "id": "0ad06e76-24af-425e-aee0-8994974a1681",
   "metadata": {},
   "outputs": [],
   "source": [
    "import pandas as pd \n",
    "import numpy as np\n",
    "import re\n",
    "\n",
    "from IPython.core.interactiveshell import InteractiveShell\n",
    "InteractiveShell.ast_node_interactivity = \"all\""
   ]
  },
  {
   "cell_type": "code",
   "execution_count": 2,
   "id": "29c539c7-9b39-48d4-aeb7-611e51a84466",
   "metadata": {},
   "outputs": [
    {
     "data": {
      "text/plain": [
       "{'#', '$', '%', '&', '*', '+', '-', '/', '=', '@'}"
      ]
     },
     "execution_count": 2,
     "metadata": {},
     "output_type": "execute_result"
    }
   ],
   "source": [
    "all_symbols=set([])\n",
    "with open('data.txt', 'r') as file:\n",
    "    for row in file:\n",
    "        for character in row:\n",
    "            all_symbols.add(character)\n",
    "digit_characters = [str(i) for i in range(10)]\n",
    "allowed_set = set(digit_characters)\n",
    "allowed_set.add('.')\n",
    "symbols = all_symbols.difference(allowed_set)\n",
    "symbols.discard('\\n')\n",
    "symbols"
   ]
  },
  {
   "cell_type": "code",
   "execution_count": 3,
   "id": "a782d16b-892c-46ac-97a1-21ed551a3a71",
   "metadata": {},
   "outputs": [],
   "source": [
    "#dataset has:\n",
    "#140 rows\n",
    "#141 columns\n",
    "mask = np.zeros((141, 140)) #initalize a 2d np array of zeros\n",
    "np.set_printoptions(threshold=np.inf)"
   ]
  },
  {
   "cell_type": "code",
   "execution_count": 4,
   "id": "e3afd175",
   "metadata": {},
   "outputs": [],
   "source": [
    "def mark_neighbors_2D(row_number, col_number, mask):\n",
    "    \"\"\"\n",
    "    This function applies the mask to all neighboring cells.\n",
    "    It does it by changing the values all around to 1.\n",
    "    If handles going out of bound via try clause.\n",
    "    \n",
    "    Parameters:\n",
    "    row_number (int): row index of the cell of interest.\n",
    "    col_number (int): column index of the cell of interest.\n",
    "    mask (2d np.array): numpy array containing the mask.\n",
    "    \n",
    "    Returns:\n",
    "    mask (2d np.array): updated mask.\n",
    "       \n",
    "    Ex:\n",
    "    mark_neighbors_2D called on X makes the following mask:  \n",
    "\n",
    "    0 0 0 0 0 0     0 0 0 0 0 0\n",
    "    0 0 0 0 0 0     0 1 1 1 0 0\n",
    "    0 0 X 0 0 0  -> 0 1 1 1 0 0\n",
    "    0 0 0 0 0 0     0 1 1 1 0 0\n",
    "    0 0 0 0 0 0     0 0 0 0 0 0\n",
    "    \"\"\"\n",
    "    for i in range(-1, 2):\n",
    "        for j in range(-1, 2):\n",
    "            try:\n",
    "                mask[row_number + i, col_number + j] = 1\n",
    "            except IndexError:\n",
    "                pass\n",
    "\n",
    "    return mask\n"
   ]
  },
  {
   "cell_type": "code",
   "execution_count": 5,
   "id": "da9699e4",
   "metadata": {},
   "outputs": [],
   "source": [
    "def mask_left_and_right(row_number, col_number, mask):\n",
    "    \"\"\"\n",
    "    Sets the value 1 in a given mask array at the specified row and column,\n",
    "    as well as the immediate left and right columns within the same row.\n",
    "    \n",
    "    Parameters:\n",
    "    row_number (int): The row index in the mask.\n",
    "    col_number (int): The column index in the mask.\n",
    "    mask (array-like): The mask array in which the values are to be set.\n",
    "    \n",
    "    Returns:\n",
    "    array-like: The modified mask array with values set to 1 at specified locations.\n",
    "    \"\"\"\n",
    "    try: \n",
    "        mask[row_number, col_number - 1] = 1\n",
    "    except IndexError:\n",
    "        pass\n",
    "    try: \n",
    "        mask[row_number, col_number] = 1\n",
    "    except IndexError:\n",
    "        pass\n",
    "    try: \n",
    "        mask[row_number, col_number + 1] = 1\n",
    "    except IndexError:\n",
    "        pass\n",
    "    \n",
    "    return mask"
   ]
  },
  {
   "cell_type": "code",
   "execution_count": 6,
   "id": "e7850ba3-ed71-4c5c-84ed-f2198baa8066",
   "metadata": {},
   "outputs": [],
   "source": [
    "with open('data.txt', 'r', encoding='utf-8') as file:\n",
    "    for row_number, row in enumerate(file):\n",
    "        for col_number,character in enumerate(row):\n",
    "            if character in symbols:\n",
    "                mask = mark_neighbors_2D(row_number,col_number,mask)             "
   ]
  },
  {
   "cell_type": "code",
   "execution_count": 8,
   "id": "b7611a3b",
   "metadata": {},
   "outputs": [],
   "source": [
    "with open('data.txt', 'r', encoding='utf-8') as file:\n",
    "    for row_number, row in enumerate(file):\n",
    "        for col_number,character in enumerate(row):\n",
    "            if character.isdigit() and mask[row_number,col_number]:\n",
    "                mask = mask_left_and_right(row_number,col_number,mask)             "
   ]
  },
  {
   "cell_type": "code",
   "execution_count": 9,
   "id": "af0abd81",
   "metadata": {},
   "outputs": [],
   "source": [
    "#the same code is repeated because we need to run it again. \n",
    "#this is because it our longest number is 3 digits, so we need 2 mask updates\n",
    "#to mask the third digit if the first is near a symbol\n",
    "with open('data.txt', 'r', encoding='utf-8') as file:\n",
    "    for row_number, row in enumerate(file):\n",
    "        for col_number,character in enumerate(row):\n",
    "            if character.isdigit() and mask[row_number,col_number]:\n",
    "                mask = mask_left_and_right(row_number,col_number,mask)      "
   ]
  },
  {
   "cell_type": "code",
   "execution_count": 10,
   "id": "8ccddc2f-9906-4d4e-b00e-97882151bdfd",
   "metadata": {},
   "outputs": [
    {
     "data": {
      "text/plain": [
       "546312"
      ]
     },
     "execution_count": 10,
     "metadata": {},
     "output_type": "execute_result"
    }
   ],
   "source": [
    "SOLUTION = 0\n",
    "list_of_strings=[]\n",
    "with open('data.txt', 'r', encoding='utf-8') as file:\n",
    "    for row_number, row in enumerate(file):\n",
    "        string=\"\"\n",
    "        for col_number,character in enumerate(row):\n",
    "            if character.isdigit() and mask[row_number,col_number]:\n",
    "                string=string+character\n",
    "            else:\n",
    "                string=string+'.'\n",
    "        numbers = re.findall(r'\\d+', string) #find all numbers\n",
    "\n",
    "        # Convert the list of strings to a list of integers and calculate the sum\n",
    "        SOLUTION += sum(int(number) for number in numbers)\n",
    "SOLUTION"
   ]
  }
 ],
 "metadata": {
  "kernelspec": {
   "display_name": "Python 3 (ipykernel)",
   "language": "python",
   "name": "python3"
  },
  "language_info": {
   "codemirror_mode": {
    "name": "ipython",
    "version": 3
   },
   "file_extension": ".py",
   "mimetype": "text/x-python",
   "name": "python",
   "nbconvert_exporter": "python",
   "pygments_lexer": "ipython3",
   "version": "3.11.5"
  }
 },
 "nbformat": 4,
 "nbformat_minor": 5
}
