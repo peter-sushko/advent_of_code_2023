{
 "cells": [
  {
   "cell_type": "code",
   "execution_count": 118,
   "id": "e292e8d6",
   "metadata": {},
   "outputs": [],
   "source": [
    "def prize_in_row(row):\n",
    "    \"\"\"This function finds the winnings per row.\n",
    "\n",
    "    Parameters:\n",
    "    row (string): one row of input\n",
    "    \n",
    "    Returns:\n",
    "    int: 2*(number of matches)-1\n",
    "\n",
    "    Examples:\n",
    "    >>> prize_in_row('Card 1: 41 48 83 86 17 | 83 86  6 31 17  9 48 53')\n",
    "    8\n",
    "    \"\"\"\n",
    "    \n",
    "    winning_set_string = row[row.find(':')+1 : row.find('|')]\n",
    "    our_set_string = row[row.find('|')+1 : row.find('\\n')]\n",
    "    winning_set = set(winning_set_string.split(' '))\n",
    "    our_set = set(our_set_string.split(' '))\n",
    "    winning_set.discard('')\n",
    "    our_set.discard('')\n",
    "    nums_of_matches = len(our_set.intersection(winning_set))\n",
    "    ans = 0\n",
    "    if nums_of_matches == 0:\n",
    "        return 0\n",
    "    return 2**(nums_of_matches-1)"
   ]
  },
  {
   "cell_type": "code",
   "execution_count": 117,
   "id": "9d61fabe",
   "metadata": {},
   "outputs": [
    {
     "name": "stdout",
     "output_type": "stream",
     "text": [
      "17782\n"
     ]
    }
   ],
   "source": [
    "SOLUTION = 0\n",
    "with open('data.txt', 'r') as file:\n",
    "    for row in file:\n",
    "        SOLUTION += prize_in_row(row)\n",
    "print(SOLUTION)"
   ]
  }
 ],
 "metadata": {
  "kernelspec": {
   "display_name": "Python 3 (ipykernel)",
   "language": "python",
   "name": "python3"
  },
  "language_info": {
   "codemirror_mode": {
    "name": "ipython",
    "version": 3
   },
   "file_extension": ".py",
   "mimetype": "text/x-python",
   "name": "python",
   "nbconvert_exporter": "python",
   "pygments_lexer": "ipython3",
   "version": "3.11.5"
  }
 },
 "nbformat": 4,
 "nbformat_minor": 5
}
