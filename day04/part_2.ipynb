{
 "cells": [
  {
   "cell_type": "code",
   "execution_count": 1,
   "id": "9ec849d4",
   "metadata": {},
   "outputs": [],
   "source": [
    "import numpy as np"
   ]
  },
  {
   "cell_type": "code",
   "execution_count": 2,
   "id": "e292e8d6",
   "metadata": {},
   "outputs": [],
   "source": [
    "def prizes_in_row(row):\n",
    "    \"\"\"This function finds how many matches were in the card\n",
    "    matches are identical numbers between and after a \"|\" symbol\n",
    "    \n",
    "    Parameters:\n",
    "    row (string): one row of input\n",
    "    \n",
    "    Returns:\n",
    "    int: number of matching numbers\n",
    "\n",
    "    Examples:\n",
    "    >>> prize_in_row('Card 1: 41 48 83 86 17 | 83 86  6 31 17  9 48 53')\n",
    "    4\n",
    "    \"\"\"\n",
    "    \n",
    "    winning_set_string = row[row.find(':')+1 : row.find('|')]\n",
    "    our_set_string = row[row.find('|')+1 : row.find('\\n')]\n",
    "    winning_set = set(winning_set_string.split(' '))\n",
    "    our_set = set(our_set_string.split(' '))\n",
    "    winning_set.discard('')\n",
    "    our_set.discard('')\n",
    "    return len(our_set.intersection(winning_set))"
   ]
  },
  {
   "cell_type": "code",
   "execution_count": 3,
   "id": "269e20b1",
   "metadata": {},
   "outputs": [
    {
     "data": {
      "text/plain": [
       "8477787.0"
      ]
     },
     "execution_count": 3,
     "metadata": {},
     "output_type": "execute_result"
    }
   ],
   "source": [
    "solution_array = np.ones(198) #constant for length of file\n",
    "with open('data.txt', 'r', encoding='utf-8') as file:\n",
    "    for index,row in enumerate(file):\n",
    "        nums = prizes_in_row(row)\n",
    "        solution_array[index + 1 : index + nums + 1] += solution_array[index]\n",
    "solution_array.sum()"
   ]
  }
 ],
 "metadata": {
  "kernelspec": {
   "display_name": "Python 3 (ipykernel)",
   "language": "python",
   "name": "python3"
  },
  "language_info": {
   "codemirror_mode": {
    "name": "ipython",
    "version": 3
   },
   "file_extension": ".py",
   "mimetype": "text/x-python",
   "name": "python",
   "nbconvert_exporter": "python",
   "pygments_lexer": "ipython3",
   "version": "3.11.5"
  }
 },
 "nbformat": 4,
 "nbformat_minor": 5
}
