{
 "cells": [
  {
   "cell_type": "code",
   "execution_count": 27,
   "id": "1731c194",
   "metadata": {},
   "outputs": [],
   "source": [
    "def game_is_valid(my_string):\n",
    "    \"\"\"\n",
    "    This function checks if the game is valid. If it is valid, it returns its ID. \n",
    "    Otherwise it returns 0\n",
    "    It starts finding the game ID by looking between find space and first \":\" character\n",
    "    Then it loops over the code and finds the indeces of keywords \"green\", \"blue\", and \"red\"\n",
    "    When the keyword is struck, it finds the correspoding number\n",
    "    The maximum is kept for each color. \n",
    "    If all colors are less than the given count, the game is valid.\n",
    "    \n",
    "    Parameters:\n",
    "    my_string (str): string of text passed to the function.\n",
    "    Example: Game 1: 20 green, 3 red, 2 blue; 9 red, 16 blue\n",
    "\n",
    "    Returns:\n",
    "    game_number (int): ID of the game if it is valid and 0 othersize\n",
    "\n",
    "    Examples:\n",
    "    >>> ex1=\"Game 1: 20 green, 3 red, 2 blue; 9 red, 16 blue\"\n",
    "    >>> game_is_valid(ex1)\n",
    "    >>> 0 \n",
    "    because the game is invalid\n",
    "    \n",
    "    >>> ex2=\"Game 42: 2 green, 3 red, 2 blue; 9 red, 1 blue\"\n",
    "    >>> game_is_valid(ex2)\n",
    "    >>> 42 \n",
    "    because game ID is 42        \n",
    "    \"\"\"\n",
    "    # the line below finds the game number by looking between first space and first \":\" symbol\n",
    "    game_number = int(my_string[my_string.find(\" \"):my_string.find(\":\")])\n",
    "    greens = blues = reds = 0\n",
    "    start_index = 0\n",
    "    while start_index < len(my_string):\n",
    "        found_index_green = my_string.find(\"green\", start_index)\n",
    "        if found_index_green == -1:\n",
    "            pass\n",
    "        else:\n",
    "            greens = max(greens, int(my_string[found_index_green-3:found_index_green]))\n",
    "\n",
    "        found_index_blue = my_string.find(\"blue\", start_index)\n",
    "        if found_index_blue == -1:\n",
    "            pass\n",
    "        else:\n",
    "            blues = max(blues, int(my_string[found_index_blue-3:found_index_blue]))\n",
    "\n",
    "        found_index_red = my_string.find(\"red\", start_index)\n",
    "        if found_index_red == -1:\n",
    "            pass\n",
    "        else:\n",
    "            reds = max(reds, int(my_string[found_index_red-3:found_index_red]))\n",
    "        start_index+=1\n",
    "\n",
    "    if (reds <= 12 and greens <= 13 and blues <= 14):\n",
    "        return game_number\n",
    "    return 0"
   ]
  },
  {
   "cell_type": "code",
   "execution_count": 28,
   "id": "f6e562a9",
   "metadata": {},
   "outputs": [
    {
     "name": "stdout",
     "output_type": "stream",
     "text": [
      "Game 100: 1 green, 11 red, 4 blue; 4 green, 1 red; 9 red, 2 blue; 5 blue, 11 red, 9 green\n",
      "\n",
      "2545\n"
     ]
    }
   ],
   "source": [
    "SOLUTION = 0\n",
    "with open('data.txt', 'r') as file:\n",
    "    for row in file:\n",
    "        SOLUTION += game_is_valid(row)\n",
    "    print(row)\n",
    "print(SOLUTION)"
   ]
  }
 ],
 "metadata": {
  "kernelspec": {
   "display_name": "Python 3 (ipykernel)",
   "language": "python",
   "name": "python3"
  },
  "language_info": {
   "codemirror_mode": {
    "name": "ipython",
    "version": 3
   },
   "file_extension": ".py",
   "mimetype": "text/x-python",
   "name": "python",
   "nbconvert_exporter": "python",
   "pygments_lexer": "ipython3",
   "version": "3.11.5"
  }
 },
 "nbformat": 4,
 "nbformat_minor": 5
}
