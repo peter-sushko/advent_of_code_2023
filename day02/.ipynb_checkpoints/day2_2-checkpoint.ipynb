{
 "cells": [
  {
   "cell_type": "code",
   "execution_count": 9,
   "id": "e83d81f3",
   "metadata": {},
   "outputs": [],
   "source": [
    "def game_is_valid_part2(my_string):\n",
    "    \"\"\"\n",
    "    This function returns the product of color counts.\n",
    "    Function it loops over the code and finds the indeces of keywords \n",
    "    Keywords are \"green\", \"blue\", and \"red\"\n",
    "    When the keyword is struck, it finds the correspoding number\n",
    "    The maximum is kept for each color. \n",
    "    \n",
    "    Parameters:\n",
    "    my_string (str): string of text passed to the function.\n",
    "    Example: Game 1: 20 green, 3 red, 2 blue; 9 red, 16 blue\n",
    "\n",
    "    Returns:\n",
    "    game_number (int): the product of minimum set of cubes to make the game work\n",
    "\n",
    "    Examples:\n",
    "    >>> ex1=\"Game 1: 20 green, 3 red, 2 blue; 9 red, 16 blue\"\n",
    "    >>> game_is_valid_part2(ex1)\n",
    "    >>> 2880\n",
    "    because min possible green is 20, blue is 16 and red is 9. Product is 2880\n",
    "    \n",
    "    \"\"\"\n",
    "    greens = blues = reds = 0\n",
    "    start_index = 0\n",
    "    while start_index < len(my_string):\n",
    "        found_index_green = my_string.find(\"green\", start_index)\n",
    "        if found_index_green == -1:\n",
    "            pass\n",
    "        else:\n",
    "            greens = max(greens, int(my_string[found_index_green-3:found_index_green]))\n",
    "\n",
    "        found_index_blue = my_string.find(\"blue\", start_index)\n",
    "        if found_index_blue == -1:\n",
    "            pass\n",
    "        else:\n",
    "            blues = max(blues, int(my_string[found_index_blue-3:found_index_blue]))\n",
    "\n",
    "        found_index_red = my_string.find(\"red\", start_index)\n",
    "        if found_index_red == -1:\n",
    "            pass\n",
    "        else:\n",
    "            reds = max(reds, int(my_string[found_index_red-3:found_index_red]))\n",
    "        start_index+=1\n",
    "\n",
    "    return reds*greens*blues"
   ]
  },
  {
   "cell_type": "code",
   "execution_count": 10,
   "id": "5125931a",
   "metadata": {},
   "outputs": [
    {
     "name": "stdout",
     "output_type": "stream",
     "text": [
      "Game 100: 1 green, 11 red, 4 blue; 4 green, 1 red; 9 red, 2 blue; 5 blue, 11 red, 9 green\n",
      "\n",
      "78111\n"
     ]
    }
   ],
   "source": [
    "SOLUTION = 0\n",
    "with open('data.txt', 'r') as file:\n",
    "    for row in file:\n",
    "        SOLUTION += game_is_valid_part2(row)\n",
    "    print(row)\n",
    "print(SOLUTION)"
   ]
  }
 ],
 "metadata": {
  "kernelspec": {
   "display_name": "Python 3 (ipykernel)",
   "language": "python",
   "name": "python3"
  },
  "language_info": {
   "codemirror_mode": {
    "name": "ipython",
    "version": 3
   },
   "file_extension": ".py",
   "mimetype": "text/x-python",
   "name": "python",
   "nbconvert_exporter": "python",
   "pygments_lexer": "ipython3",
   "version": "3.11.5"
  }
 },
 "nbformat": 4,
 "nbformat_minor": 5
}
